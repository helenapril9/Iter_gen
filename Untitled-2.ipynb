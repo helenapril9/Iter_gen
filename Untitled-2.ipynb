{
 "cells": [
  {
   "cell_type": "code",
   "execution_count": 5,
   "metadata": {},
   "outputs": [
    {
     "name": "stdout",
     "output_type": "stream",
     "text": [
      "a\n",
      "b\n",
      "c\n",
      "d\n",
      "e\n",
      "f\n",
      "h\n",
      "False\n",
      "1\n",
      "2\n",
      "None\n",
      "['a', 'b', 'c', 'd', 'e', 'f', 'h', False, 1, 2, None]\n"
     ]
    }
   ],
   "source": [
    "nested_list = [\n",
    "        ['a', 'b', 'c'],\n",
    "        ['d', 'e', 'f', 'h', False ],\n",
    "        [1, 2, None],\n",
    "    ]\n",
    "class FlatIterator:    \n",
    "    def __init__(self, list_):\n",
    "        self._stopped = False\n",
    "        self._list = list_\n",
    "        self._i = 0\n",
    "        self._j = 0\n",
    "\n",
    "    def __iter__(self):\n",
    "        return self\n",
    "\n",
    "    def __next__(self):\n",
    "        if not self._stopped:\n",
    "            while self._i < len(self._list):\n",
    "                if self._j < len(self._list[self._i]):\n",
    "                    v = self._list[self._i][self._j]\n",
    "                    self._j += 1\n",
    "                    return v\n",
    "\n",
    "                self._i += 1\n",
    "                self._j = 0\n",
    "            self._stopped = True\n",
    "        raise StopIteration\n",
    "\n",
    "for item in FlatIterator(nested_list):\n",
    "    print(item)\n",
    "flat_list = [item for item in FlatIterator(nested_list)]\n",
    "print(flat_list)"
   ]
  }
 ],
 "metadata": {
  "kernelspec": {
   "display_name": "Python 3.8.8 ('base')",
   "language": "python",
   "name": "python3"
  },
  "language_info": {
   "codemirror_mode": {
    "name": "ipython",
    "version": 3
   },
   "file_extension": ".py",
   "mimetype": "text/x-python",
   "name": "python",
   "nbconvert_exporter": "python",
   "pygments_lexer": "ipython3",
   "version": "3.8.8"
  },
  "orig_nbformat": 4,
  "vscode": {
   "interpreter": {
    "hash": "073e97d9edce391f5d16825652497352d8c5f972d2913fd0dc21756dd309c531"
   }
  }
 },
 "nbformat": 4,
 "nbformat_minor": 2
}
