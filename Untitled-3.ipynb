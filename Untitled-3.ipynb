{
 "cells": [
  {
   "cell_type": "code",
   "execution_count": 1,
   "metadata": {},
   "outputs": [
    {
     "name": "stdout",
     "output_type": "stream",
     "text": [
      "a\n",
      "b\n",
      "c\n",
      "d\n",
      "e\n",
      "f\n",
      "1\n",
      "2\n",
      "None\n"
     ]
    }
   ],
   "source": [
    "nested_list = [\n",
    "\t['a', 'b', 'c'],\n",
    "\t['d', 'e', 'f'],\n",
    "\t[1, 2, None],\n",
    "]\n",
    "\n",
    "def flat_generator(nl):\n",
    "    for l in nl: \n",
    "        for i in l:\n",
    "            yield i\n",
    "\n",
    "for item in  flat_generator(nested_list):\n",
    "\tprint(item)\n",
    "\n",
    "\n",
    "\n"
   ]
  }
 ],
 "metadata": {
  "kernelspec": {
   "display_name": "Python 3.8.8 ('base')",
   "language": "python",
   "name": "python3"
  },
  "language_info": {
   "codemirror_mode": {
    "name": "ipython",
    "version": 3
   },
   "file_extension": ".py",
   "mimetype": "text/x-python",
   "name": "python",
   "nbconvert_exporter": "python",
   "pygments_lexer": "ipython3",
   "version": "3.8.8"
  },
  "orig_nbformat": 4,
  "vscode": {
   "interpreter": {
    "hash": "073e97d9edce391f5d16825652497352d8c5f972d2913fd0dc21756dd309c531"
   }
  }
 },
 "nbformat": 4,
 "nbformat_minor": 2
}
